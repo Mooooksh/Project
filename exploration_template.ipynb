{
 "cells": [
  {
   "cell_type": "markdown",
   "metadata": {},
   "source": [
    "# (Ford GoBike System Data \" baywheels-data \")\n",
    "> With the last version which updated at 6 july 2020\n",
    "## by (Mohamed Abdalla)\n",
    "\n",
    "## Preliminary Wrangling\n",
    "> first of all speaking about data set elements i choosed #Ford GoBike System Data \" baywheels-data \" which generated in 2020\n",
    "> our data compet from 13 columns and each one explains one constsntly elemnt about individual rides made in a bike-sharing system covering the greater San Francisco Bay area.  \n",
    "> and my mainly jop for this dataset is clean and preparing it for nice visualization"
   ]
  },
  {
   "cell_type": "code",
   "execution_count": null,
   "metadata": {},
   "outputs": [],
   "source": [
    "# import all packages and set plots to be embedded inline\n",
    "import numpy as np\n",
    "import pandas as pd\n",
    "import matplotlib.pyplot as plt\n",
    "import seaborn as sb\n",
    "\n",
    "%matplotlib inline"
   ]
  },
  {
   "cell_type": "code",
   "execution_count": 41,
   "metadata": {},
   "outputs": [
    {
     "data": {
      "text/html": [
       "<div>\n",
       "<style scoped>\n",
       "    .dataframe tbody tr th:only-of-type {\n",
       "        vertical-align: middle;\n",
       "    }\n",
       "\n",
       "    .dataframe tbody tr th {\n",
       "        vertical-align: top;\n",
       "    }\n",
       "\n",
       "    .dataframe thead th {\n",
       "        text-align: right;\n",
       "    }\n",
       "</style>\n",
       "<table border=\"1\" class=\"dataframe\">\n",
       "  <thead>\n",
       "    <tr style=\"text-align: right;\">\n",
       "      <th></th>\n",
       "      <th>ride_id</th>\n",
       "      <th>rideable_type</th>\n",
       "      <th>started_at</th>\n",
       "      <th>ended_at</th>\n",
       "      <th>start_station_name</th>\n",
       "      <th>start_station_id</th>\n",
       "      <th>end_station_name</th>\n",
       "      <th>end_station_id</th>\n",
       "      <th>start_lat</th>\n",
       "      <th>start_lng</th>\n",
       "      <th>end_lat</th>\n",
       "      <th>end_lng</th>\n",
       "      <th>member_casual</th>\n",
       "    </tr>\n",
       "  </thead>\n",
       "  <tbody>\n",
       "    <tr>\n",
       "      <th>0</th>\n",
       "      <td>08A4A9F7315901F3</td>\n",
       "      <td>electric_bike</td>\n",
       "      <td>2020-06-03 16:37:10</td>\n",
       "      <td>2020-06-03 16:48:28</td>\n",
       "      <td>NaN</td>\n",
       "      <td>NaN</td>\n",
       "      <td>NaN</td>\n",
       "      <td>NaN</td>\n",
       "      <td>37.770000</td>\n",
       "      <td>-122.40000</td>\n",
       "      <td>37.76</td>\n",
       "      <td>-122.42</td>\n",
       "      <td>casual</td>\n",
       "    </tr>\n",
       "    <tr>\n",
       "      <th>1</th>\n",
       "      <td>844F9D906468C441</td>\n",
       "      <td>electric_bike</td>\n",
       "      <td>2020-06-03 12:22:47</td>\n",
       "      <td>2020-06-03 12:44:02</td>\n",
       "      <td>NaN</td>\n",
       "      <td>NaN</td>\n",
       "      <td>NaN</td>\n",
       "      <td>NaN</td>\n",
       "      <td>37.780000</td>\n",
       "      <td>-122.49000</td>\n",
       "      <td>37.78</td>\n",
       "      <td>-122.46</td>\n",
       "      <td>casual</td>\n",
       "    </tr>\n",
       "    <tr>\n",
       "      <th>2</th>\n",
       "      <td>0E441BF8A86C544E</td>\n",
       "      <td>electric_bike</td>\n",
       "      <td>2020-06-02 17:37:43</td>\n",
       "      <td>2020-06-02 17:52:21</td>\n",
       "      <td>Powell St at Columbus Ave</td>\n",
       "      <td>487.0</td>\n",
       "      <td>NaN</td>\n",
       "      <td>NaN</td>\n",
       "      <td>37.800426</td>\n",
       "      <td>-122.41095</td>\n",
       "      <td>37.79</td>\n",
       "      <td>-122.44</td>\n",
       "      <td>casual</td>\n",
       "    </tr>\n",
       "  </tbody>\n",
       "</table>\n",
       "</div>"
      ],
      "text/plain": [
       "            ride_id  rideable_type           started_at             ended_at  \\\n",
       "0  08A4A9F7315901F3  electric_bike  2020-06-03 16:37:10  2020-06-03 16:48:28   \n",
       "1  844F9D906468C441  electric_bike  2020-06-03 12:22:47  2020-06-03 12:44:02   \n",
       "2  0E441BF8A86C544E  electric_bike  2020-06-02 17:37:43  2020-06-02 17:52:21   \n",
       "\n",
       "          start_station_name  start_station_id end_station_name  \\\n",
       "0                        NaN               NaN              NaN   \n",
       "1                        NaN               NaN              NaN   \n",
       "2  Powell St at Columbus Ave             487.0              NaN   \n",
       "\n",
       "   end_station_id  start_lat  start_lng  end_lat  end_lng member_casual  \n",
       "0             NaN  37.770000 -122.40000    37.76  -122.42        casual  \n",
       "1             NaN  37.780000 -122.49000    37.78  -122.46        casual  \n",
       "2             NaN  37.800426 -122.41095    37.79  -122.44        casual  "
      ]
     },
     "execution_count": 41,
     "metadata": {},
     "output_type": "execute_result"
    }
   ],
   "source": [
    "# load my dataset which is downloaded manually from udacity \n",
    "df = pd.read_csv('202006-baywheels-tripdata.csv')\n",
    "df.head(3)"
   ]
  },
  {
   "cell_type": "code",
   "execution_count": 42,
   "metadata": {},
   "outputs": [
    {
     "data": {
      "text/plain": [
       "(158168, 13)"
      ]
     },
     "execution_count": 42,
     "metadata": {},
     "output_type": "execute_result"
    }
   ],
   "source": [
    "# finding the structure of our dataset by using this simple command \n",
    "df.shape"
   ]
  },
  {
   "cell_type": "code",
   "execution_count": 43,
   "metadata": {},
   "outputs": [
    {
     "name": "stdout",
     "output_type": "stream",
     "text": [
      "<class 'pandas.core.frame.DataFrame'>\n",
      "RangeIndex: 158168 entries, 0 to 158167\n",
      "Data columns (total 13 columns):\n",
      " #   Column              Non-Null Count   Dtype  \n",
      "---  ------              --------------   -----  \n",
      " 0   ride_id             158168 non-null  object \n",
      " 1   rideable_type       158168 non-null  object \n",
      " 2   started_at          158168 non-null  object \n",
      " 3   ended_at            158168 non-null  object \n",
      " 4   start_station_name  99220 non-null   object \n",
      " 5   start_station_id    99220 non-null   float64\n",
      " 6   end_station_name    97151 non-null   object \n",
      " 7   end_station_id      97151 non-null   float64\n",
      " 8   start_lat           158168 non-null  float64\n",
      " 9   start_lng           158168 non-null  float64\n",
      " 10  end_lat             157892 non-null  float64\n",
      " 11  end_lng             157892 non-null  float64\n",
      " 12  member_casual       158168 non-null  object \n",
      "dtypes: float64(6), object(7)\n",
      "memory usage: 15.7+ MB\n"
     ]
    }
   ],
   "source": [
    "# finding data types for each columns \n",
    "df.info()"
   ]
  },
  {
   "cell_type": "code",
   "execution_count": 44,
   "metadata": {},
   "outputs": [
    {
     "data": {
      "text/plain": [
       "0"
      ]
     },
     "execution_count": 44,
     "metadata": {},
     "output_type": "execute_result"
    }
   ],
   "source": [
    "# to see if there a duplicated values or not\n",
    "df.duplicated().sum()"
   ]
  },
  {
   "cell_type": "code",
   "execution_count": 45,
   "metadata": {},
   "outputs": [],
   "source": [
    "# the started_at and ended_at columns classified as object so we have to convert them to date rime instead\n",
    "df.rideable_type  = df.rideable_type.astype('category')\n",
    "df.started_at = pd.to_datetime(df.started_at)\n",
    "df.ended_at = pd.to_datetime(df.ended_at)"
   ]
  },
  {
   "cell_type": "code",
   "execution_count": 46,
   "metadata": {},
   "outputs": [
    {
     "data": {
      "text/plain": [
       "electric_bike    109176\n",
       "docked_bike       48992\n",
       "Name: rideable_type, dtype: int64"
      ]
     },
     "execution_count": 46,
     "metadata": {},
     "output_type": "execute_result"
    }
   ],
   "source": [
    "#counting each element of rideable_type columns \n",
    "df.rideable_type.value_counts()"
   ]
  },
  {
   "cell_type": "code",
   "execution_count": 47,
   "metadata": {},
   "outputs": [
    {
     "data": {
      "text/plain": [
       "casual    95549\n",
       "member    62619\n",
       "Name: member_casual, dtype: int64"
      ]
     },
     "execution_count": 47,
     "metadata": {},
     "output_type": "execute_result"
    }
   ],
   "source": [
    "#counting each element of member_casual columns \n",
    "df.member_casual.value_counts()"
   ]
  },
  {
   "cell_type": "code",
   "execution_count": 48,
   "metadata": {},
   "outputs": [
    {
     "data": {
      "text/plain": [
       "ride_id                   0\n",
       "rideable_type             0\n",
       "started_at                0\n",
       "ended_at                  0\n",
       "start_station_name    58948\n",
       "start_station_id      58948\n",
       "end_station_name      61017\n",
       "end_station_id        61017\n",
       "start_lat                 0\n",
       "start_lng                 0\n",
       "end_lat                 276\n",
       "end_lng                 276\n",
       "member_casual             0\n",
       "dtype: int64"
      ]
     },
     "execution_count": 48,
     "metadata": {},
     "output_type": "execute_result"
    }
   ],
   "source": [
    "# this for showing count of null values per specific columns\n",
    "df.isnull().sum()"
   ]
  },
  {
   "cell_type": "code",
   "execution_count": 49,
   "metadata": {},
   "outputs": [
    {
     "data": {
      "text/html": [
       "<div>\n",
       "<style scoped>\n",
       "    .dataframe tbody tr th:only-of-type {\n",
       "        vertical-align: middle;\n",
       "    }\n",
       "\n",
       "    .dataframe tbody tr th {\n",
       "        vertical-align: top;\n",
       "    }\n",
       "\n",
       "    .dataframe thead th {\n",
       "        text-align: right;\n",
       "    }\n",
       "</style>\n",
       "<table border=\"1\" class=\"dataframe\">\n",
       "  <thead>\n",
       "    <tr style=\"text-align: right;\">\n",
       "      <th></th>\n",
       "      <th>ride_id</th>\n",
       "      <th>rideable_type</th>\n",
       "      <th>started_at</th>\n",
       "      <th>ended_at</th>\n",
       "      <th>start_station_name</th>\n",
       "      <th>start_station_id</th>\n",
       "      <th>end_station_name</th>\n",
       "      <th>end_station_id</th>\n",
       "      <th>start_lat</th>\n",
       "      <th>start_lng</th>\n",
       "      <th>end_lat</th>\n",
       "      <th>end_lng</th>\n",
       "      <th>member_casual</th>\n",
       "    </tr>\n",
       "  </thead>\n",
       "  <tbody>\n",
       "    <tr>\n",
       "      <th>0</th>\n",
       "      <td>08A4A9F7315901F3</td>\n",
       "      <td>electric_bike</td>\n",
       "      <td>2020-06-03 16:37:10</td>\n",
       "      <td>2020-06-03 16:48:28</td>\n",
       "      <td>NaN</td>\n",
       "      <td>NaN</td>\n",
       "      <td>NaN</td>\n",
       "      <td>NaN</td>\n",
       "      <td>37.770000</td>\n",
       "      <td>-122.400000</td>\n",
       "      <td>37.760000</td>\n",
       "      <td>-122.420000</td>\n",
       "      <td>casual</td>\n",
       "    </tr>\n",
       "    <tr>\n",
       "      <th>1</th>\n",
       "      <td>844F9D906468C441</td>\n",
       "      <td>electric_bike</td>\n",
       "      <td>2020-06-03 12:22:47</td>\n",
       "      <td>2020-06-03 12:44:02</td>\n",
       "      <td>NaN</td>\n",
       "      <td>NaN</td>\n",
       "      <td>NaN</td>\n",
       "      <td>NaN</td>\n",
       "      <td>37.780000</td>\n",
       "      <td>-122.490000</td>\n",
       "      <td>37.780000</td>\n",
       "      <td>-122.460000</td>\n",
       "      <td>casual</td>\n",
       "    </tr>\n",
       "    <tr>\n",
       "      <th>2</th>\n",
       "      <td>0E441BF8A86C544E</td>\n",
       "      <td>electric_bike</td>\n",
       "      <td>2020-06-02 17:37:43</td>\n",
       "      <td>2020-06-02 17:52:21</td>\n",
       "      <td>Powell St at Columbus Ave</td>\n",
       "      <td>487.0</td>\n",
       "      <td>NaN</td>\n",
       "      <td>NaN</td>\n",
       "      <td>37.800426</td>\n",
       "      <td>-122.410950</td>\n",
       "      <td>37.790000</td>\n",
       "      <td>-122.440000</td>\n",
       "      <td>casual</td>\n",
       "    </tr>\n",
       "    <tr>\n",
       "      <th>3</th>\n",
       "      <td>CAFE64864422F475</td>\n",
       "      <td>electric_bike</td>\n",
       "      <td>2020-06-02 18:13:01</td>\n",
       "      <td>2020-06-02 18:48:30</td>\n",
       "      <td>NaN</td>\n",
       "      <td>NaN</td>\n",
       "      <td>NaN</td>\n",
       "      <td>NaN</td>\n",
       "      <td>37.760000</td>\n",
       "      <td>-122.410000</td>\n",
       "      <td>37.770000</td>\n",
       "      <td>-122.430000</td>\n",
       "      <td>casual</td>\n",
       "    </tr>\n",
       "    <tr>\n",
       "      <th>4</th>\n",
       "      <td>172957A20160D568</td>\n",
       "      <td>electric_bike</td>\n",
       "      <td>2020-06-03 15:16:06</td>\n",
       "      <td>2020-06-03 16:06:10</td>\n",
       "      <td>Church St at Duboce Ave</td>\n",
       "      <td>85.0</td>\n",
       "      <td>48th Ave at Cabrillo St</td>\n",
       "      <td>521.0</td>\n",
       "      <td>37.769841</td>\n",
       "      <td>-122.429210</td>\n",
       "      <td>37.772894</td>\n",
       "      <td>-122.509079</td>\n",
       "      <td>casual</td>\n",
       "    </tr>\n",
       "    <tr>\n",
       "      <th>...</th>\n",
       "      <td>...</td>\n",
       "      <td>...</td>\n",
       "      <td>...</td>\n",
       "      <td>...</td>\n",
       "      <td>...</td>\n",
       "      <td>...</td>\n",
       "      <td>...</td>\n",
       "      <td>...</td>\n",
       "      <td>...</td>\n",
       "      <td>...</td>\n",
       "      <td>...</td>\n",
       "      <td>...</td>\n",
       "      <td>...</td>\n",
       "    </tr>\n",
       "    <tr>\n",
       "      <th>158163</th>\n",
       "      <td>0B71759604CAC23A</td>\n",
       "      <td>docked_bike</td>\n",
       "      <td>2020-06-03 17:36:00</td>\n",
       "      <td>2020-06-03 17:48:03</td>\n",
       "      <td>Sanchez St at 15th St</td>\n",
       "      <td>95.0</td>\n",
       "      <td>11th St at Natoma St</td>\n",
       "      <td>77.0</td>\n",
       "      <td>37.766218</td>\n",
       "      <td>-122.431059</td>\n",
       "      <td>37.773507</td>\n",
       "      <td>-122.416040</td>\n",
       "      <td>casual</td>\n",
       "    </tr>\n",
       "    <tr>\n",
       "      <th>158164</th>\n",
       "      <td>F9B05C6AF19DDFA6</td>\n",
       "      <td>docked_bike</td>\n",
       "      <td>2020-06-09 16:11:52</td>\n",
       "      <td>2020-06-09 16:22:46</td>\n",
       "      <td>MacArthur BART Station</td>\n",
       "      <td>176.0</td>\n",
       "      <td>Miles Ave at Cavour St</td>\n",
       "      <td>205.0</td>\n",
       "      <td>37.828409</td>\n",
       "      <td>-122.266314</td>\n",
       "      <td>37.838800</td>\n",
       "      <td>-122.258732</td>\n",
       "      <td>casual</td>\n",
       "    </tr>\n",
       "    <tr>\n",
       "      <th>158165</th>\n",
       "      <td>7CD57741868F792F</td>\n",
       "      <td>docked_bike</td>\n",
       "      <td>2020-06-20 21:23:17</td>\n",
       "      <td>2020-06-20 21:38:26</td>\n",
       "      <td>Bay Pl at Vernon St</td>\n",
       "      <td>195.0</td>\n",
       "      <td>Bay Pl at Vernon St</td>\n",
       "      <td>195.0</td>\n",
       "      <td>37.812314</td>\n",
       "      <td>-122.260778</td>\n",
       "      <td>37.812314</td>\n",
       "      <td>-122.260779</td>\n",
       "      <td>casual</td>\n",
       "    </tr>\n",
       "    <tr>\n",
       "      <th>158166</th>\n",
       "      <td>B63CC04A5F7D3245</td>\n",
       "      <td>docked_bike</td>\n",
       "      <td>2020-06-13 11:40:08</td>\n",
       "      <td>2020-06-13 11:55:17</td>\n",
       "      <td>Alcatraz Ave at Shattuck Ave</td>\n",
       "      <td>168.0</td>\n",
       "      <td>Rockridge BART Station</td>\n",
       "      <td>171.0</td>\n",
       "      <td>37.849594</td>\n",
       "      <td>-122.265568</td>\n",
       "      <td>37.844279</td>\n",
       "      <td>-122.251900</td>\n",
       "      <td>casual</td>\n",
       "    </tr>\n",
       "    <tr>\n",
       "      <th>158167</th>\n",
       "      <td>78F6F31637E6358D</td>\n",
       "      <td>docked_bike</td>\n",
       "      <td>2020-06-23 19:33:38</td>\n",
       "      <td>2020-06-23 19:45:56</td>\n",
       "      <td>Terry Francois Blvd at Warriors Way</td>\n",
       "      <td>460.0</td>\n",
       "      <td>The Embarcadero at Pier 38</td>\n",
       "      <td>38.0</td>\n",
       "      <td>37.769094</td>\n",
       "      <td>-122.386332</td>\n",
       "      <td>37.782926</td>\n",
       "      <td>-122.387921</td>\n",
       "      <td>casual</td>\n",
       "    </tr>\n",
       "  </tbody>\n",
       "</table>\n",
       "<p>158168 rows × 13 columns</p>\n",
       "</div>"
      ],
      "text/plain": [
       "                 ride_id  rideable_type          started_at  \\\n",
       "0       08A4A9F7315901F3  electric_bike 2020-06-03 16:37:10   \n",
       "1       844F9D906468C441  electric_bike 2020-06-03 12:22:47   \n",
       "2       0E441BF8A86C544E  electric_bike 2020-06-02 17:37:43   \n",
       "3       CAFE64864422F475  electric_bike 2020-06-02 18:13:01   \n",
       "4       172957A20160D568  electric_bike 2020-06-03 15:16:06   \n",
       "...                  ...            ...                 ...   \n",
       "158163  0B71759604CAC23A    docked_bike 2020-06-03 17:36:00   \n",
       "158164  F9B05C6AF19DDFA6    docked_bike 2020-06-09 16:11:52   \n",
       "158165  7CD57741868F792F    docked_bike 2020-06-20 21:23:17   \n",
       "158166  B63CC04A5F7D3245    docked_bike 2020-06-13 11:40:08   \n",
       "158167  78F6F31637E6358D    docked_bike 2020-06-23 19:33:38   \n",
       "\n",
       "                  ended_at                   start_station_name  \\\n",
       "0      2020-06-03 16:48:28                                  NaN   \n",
       "1      2020-06-03 12:44:02                                  NaN   \n",
       "2      2020-06-02 17:52:21            Powell St at Columbus Ave   \n",
       "3      2020-06-02 18:48:30                                  NaN   \n",
       "4      2020-06-03 16:06:10              Church St at Duboce Ave   \n",
       "...                    ...                                  ...   \n",
       "158163 2020-06-03 17:48:03                Sanchez St at 15th St   \n",
       "158164 2020-06-09 16:22:46               MacArthur BART Station   \n",
       "158165 2020-06-20 21:38:26                  Bay Pl at Vernon St   \n",
       "158166 2020-06-13 11:55:17         Alcatraz Ave at Shattuck Ave   \n",
       "158167 2020-06-23 19:45:56  Terry Francois Blvd at Warriors Way   \n",
       "\n",
       "        start_station_id            end_station_name  end_station_id  \\\n",
       "0                    NaN                         NaN             NaN   \n",
       "1                    NaN                         NaN             NaN   \n",
       "2                  487.0                         NaN             NaN   \n",
       "3                    NaN                         NaN             NaN   \n",
       "4                   85.0     48th Ave at Cabrillo St           521.0   \n",
       "...                  ...                         ...             ...   \n",
       "158163              95.0        11th St at Natoma St            77.0   \n",
       "158164             176.0      Miles Ave at Cavour St           205.0   \n",
       "158165             195.0         Bay Pl at Vernon St           195.0   \n",
       "158166             168.0      Rockridge BART Station           171.0   \n",
       "158167             460.0  The Embarcadero at Pier 38            38.0   \n",
       "\n",
       "        start_lat   start_lng    end_lat     end_lng member_casual  \n",
       "0       37.770000 -122.400000  37.760000 -122.420000        casual  \n",
       "1       37.780000 -122.490000  37.780000 -122.460000        casual  \n",
       "2       37.800426 -122.410950  37.790000 -122.440000        casual  \n",
       "3       37.760000 -122.410000  37.770000 -122.430000        casual  \n",
       "4       37.769841 -122.429210  37.772894 -122.509079        casual  \n",
       "...           ...         ...        ...         ...           ...  \n",
       "158163  37.766218 -122.431059  37.773507 -122.416040        casual  \n",
       "158164  37.828409 -122.266314  37.838800 -122.258732        casual  \n",
       "158165  37.812314 -122.260778  37.812314 -122.260779        casual  \n",
       "158166  37.849594 -122.265568  37.844279 -122.251900        casual  \n",
       "158167  37.769094 -122.386332  37.782926 -122.387921        casual  \n",
       "\n",
       "[158168 rows x 13 columns]"
      ]
     },
     "execution_count": 49,
     "metadata": {},
     "output_type": "execute_result"
    }
   ],
   "source": [
    "# Remove rows that does not have member_casual value\n",
    "df[df['member_casual'].isnull() == False]"
   ]
  },
  {
   "cell_type": "code",
   "execution_count": 50,
   "metadata": {},
   "outputs": [
    {
     "data": {
      "text/html": [
       "<div>\n",
       "<style scoped>\n",
       "    .dataframe tbody tr th:only-of-type {\n",
       "        vertical-align: middle;\n",
       "    }\n",
       "\n",
       "    .dataframe tbody tr th {\n",
       "        vertical-align: top;\n",
       "    }\n",
       "\n",
       "    .dataframe thead th {\n",
       "        text-align: right;\n",
       "    }\n",
       "</style>\n",
       "<table border=\"1\" class=\"dataframe\">\n",
       "  <thead>\n",
       "    <tr style=\"text-align: right;\">\n",
       "      <th></th>\n",
       "      <th>ride_id</th>\n",
       "      <th>rideable_type</th>\n",
       "      <th>started_at</th>\n",
       "      <th>ended_at</th>\n",
       "      <th>start_station_name</th>\n",
       "      <th>start_station_id</th>\n",
       "      <th>end_station_name</th>\n",
       "      <th>end_station_id</th>\n",
       "      <th>start_lat</th>\n",
       "      <th>start_lng</th>\n",
       "      <th>end_lat</th>\n",
       "      <th>end_lng</th>\n",
       "      <th>member_casual</th>\n",
       "    </tr>\n",
       "  </thead>\n",
       "  <tbody>\n",
       "    <tr>\n",
       "      <th>2</th>\n",
       "      <td>0E441BF8A86C544E</td>\n",
       "      <td>electric_bike</td>\n",
       "      <td>2020-06-02 17:37:43</td>\n",
       "      <td>2020-06-02 17:52:21</td>\n",
       "      <td>Powell St at Columbus Ave</td>\n",
       "      <td>487.0</td>\n",
       "      <td>NaN</td>\n",
       "      <td>NaN</td>\n",
       "      <td>37.800426</td>\n",
       "      <td>-122.410950</td>\n",
       "      <td>37.790000</td>\n",
       "      <td>-122.440000</td>\n",
       "      <td>casual</td>\n",
       "    </tr>\n",
       "    <tr>\n",
       "      <th>4</th>\n",
       "      <td>172957A20160D568</td>\n",
       "      <td>electric_bike</td>\n",
       "      <td>2020-06-03 15:16:06</td>\n",
       "      <td>2020-06-03 16:06:10</td>\n",
       "      <td>Church St at Duboce Ave</td>\n",
       "      <td>85.0</td>\n",
       "      <td>48th Ave at Cabrillo St</td>\n",
       "      <td>521.0</td>\n",
       "      <td>37.769841</td>\n",
       "      <td>-122.429210</td>\n",
       "      <td>37.772894</td>\n",
       "      <td>-122.509079</td>\n",
       "      <td>casual</td>\n",
       "    </tr>\n",
       "    <tr>\n",
       "      <th>8</th>\n",
       "      <td>AC29BDD9051D1827</td>\n",
       "      <td>electric_bike</td>\n",
       "      <td>2020-06-03 12:13:30</td>\n",
       "      <td>2020-06-03 12:36:27</td>\n",
       "      <td>Cesar Chavez St at Dolores St</td>\n",
       "      <td>140.0</td>\n",
       "      <td>4th St at 16th St</td>\n",
       "      <td>104.0</td>\n",
       "      <td>37.747758</td>\n",
       "      <td>-122.425121</td>\n",
       "      <td>37.767008</td>\n",
       "      <td>-122.390851</td>\n",
       "      <td>casual</td>\n",
       "    </tr>\n",
       "    <tr>\n",
       "      <th>10</th>\n",
       "      <td>BE55928B0B2837A6</td>\n",
       "      <td>electric_bike</td>\n",
       "      <td>2020-06-03 14:50:30</td>\n",
       "      <td>2020-06-03 15:07:00</td>\n",
       "      <td>Yerba Buena Center for the Arts (Howard St at ...</td>\n",
       "      <td>284.0</td>\n",
       "      <td>NaN</td>\n",
       "      <td>NaN</td>\n",
       "      <td>37.784577</td>\n",
       "      <td>-122.400985</td>\n",
       "      <td>37.760000</td>\n",
       "      <td>-122.420000</td>\n",
       "      <td>casual</td>\n",
       "    </tr>\n",
       "    <tr>\n",
       "      <th>14</th>\n",
       "      <td>7E0C4C5917A9EEC2</td>\n",
       "      <td>electric_bike</td>\n",
       "      <td>2020-06-02 19:18:23</td>\n",
       "      <td>2020-06-02 19:46:05</td>\n",
       "      <td>The Embarcadero at Vallejo St</td>\n",
       "      <td>8.0</td>\n",
       "      <td>Hyde St at Post St</td>\n",
       "      <td>369.0</td>\n",
       "      <td>37.799943</td>\n",
       "      <td>-122.398562</td>\n",
       "      <td>37.787527</td>\n",
       "      <td>-122.416830</td>\n",
       "      <td>casual</td>\n",
       "    </tr>\n",
       "    <tr>\n",
       "      <th>...</th>\n",
       "      <td>...</td>\n",
       "      <td>...</td>\n",
       "      <td>...</td>\n",
       "      <td>...</td>\n",
       "      <td>...</td>\n",
       "      <td>...</td>\n",
       "      <td>...</td>\n",
       "      <td>...</td>\n",
       "      <td>...</td>\n",
       "      <td>...</td>\n",
       "      <td>...</td>\n",
       "      <td>...</td>\n",
       "      <td>...</td>\n",
       "    </tr>\n",
       "    <tr>\n",
       "      <th>158163</th>\n",
       "      <td>0B71759604CAC23A</td>\n",
       "      <td>docked_bike</td>\n",
       "      <td>2020-06-03 17:36:00</td>\n",
       "      <td>2020-06-03 17:48:03</td>\n",
       "      <td>Sanchez St at 15th St</td>\n",
       "      <td>95.0</td>\n",
       "      <td>11th St at Natoma St</td>\n",
       "      <td>77.0</td>\n",
       "      <td>37.766218</td>\n",
       "      <td>-122.431059</td>\n",
       "      <td>37.773507</td>\n",
       "      <td>-122.416040</td>\n",
       "      <td>casual</td>\n",
       "    </tr>\n",
       "    <tr>\n",
       "      <th>158164</th>\n",
       "      <td>F9B05C6AF19DDFA6</td>\n",
       "      <td>docked_bike</td>\n",
       "      <td>2020-06-09 16:11:52</td>\n",
       "      <td>2020-06-09 16:22:46</td>\n",
       "      <td>MacArthur BART Station</td>\n",
       "      <td>176.0</td>\n",
       "      <td>Miles Ave at Cavour St</td>\n",
       "      <td>205.0</td>\n",
       "      <td>37.828409</td>\n",
       "      <td>-122.266314</td>\n",
       "      <td>37.838800</td>\n",
       "      <td>-122.258732</td>\n",
       "      <td>casual</td>\n",
       "    </tr>\n",
       "    <tr>\n",
       "      <th>158165</th>\n",
       "      <td>7CD57741868F792F</td>\n",
       "      <td>docked_bike</td>\n",
       "      <td>2020-06-20 21:23:17</td>\n",
       "      <td>2020-06-20 21:38:26</td>\n",
       "      <td>Bay Pl at Vernon St</td>\n",
       "      <td>195.0</td>\n",
       "      <td>Bay Pl at Vernon St</td>\n",
       "      <td>195.0</td>\n",
       "      <td>37.812314</td>\n",
       "      <td>-122.260778</td>\n",
       "      <td>37.812314</td>\n",
       "      <td>-122.260779</td>\n",
       "      <td>casual</td>\n",
       "    </tr>\n",
       "    <tr>\n",
       "      <th>158166</th>\n",
       "      <td>B63CC04A5F7D3245</td>\n",
       "      <td>docked_bike</td>\n",
       "      <td>2020-06-13 11:40:08</td>\n",
       "      <td>2020-06-13 11:55:17</td>\n",
       "      <td>Alcatraz Ave at Shattuck Ave</td>\n",
       "      <td>168.0</td>\n",
       "      <td>Rockridge BART Station</td>\n",
       "      <td>171.0</td>\n",
       "      <td>37.849594</td>\n",
       "      <td>-122.265568</td>\n",
       "      <td>37.844279</td>\n",
       "      <td>-122.251900</td>\n",
       "      <td>casual</td>\n",
       "    </tr>\n",
       "    <tr>\n",
       "      <th>158167</th>\n",
       "      <td>78F6F31637E6358D</td>\n",
       "      <td>docked_bike</td>\n",
       "      <td>2020-06-23 19:33:38</td>\n",
       "      <td>2020-06-23 19:45:56</td>\n",
       "      <td>Terry Francois Blvd at Warriors Way</td>\n",
       "      <td>460.0</td>\n",
       "      <td>The Embarcadero at Pier 38</td>\n",
       "      <td>38.0</td>\n",
       "      <td>37.769094</td>\n",
       "      <td>-122.386332</td>\n",
       "      <td>37.782926</td>\n",
       "      <td>-122.387921</td>\n",
       "      <td>casual</td>\n",
       "    </tr>\n",
       "  </tbody>\n",
       "</table>\n",
       "<p>99220 rows × 13 columns</p>\n",
       "</div>"
      ],
      "text/plain": [
       "                 ride_id  rideable_type          started_at  \\\n",
       "2       0E441BF8A86C544E  electric_bike 2020-06-02 17:37:43   \n",
       "4       172957A20160D568  electric_bike 2020-06-03 15:16:06   \n",
       "8       AC29BDD9051D1827  electric_bike 2020-06-03 12:13:30   \n",
       "10      BE55928B0B2837A6  electric_bike 2020-06-03 14:50:30   \n",
       "14      7E0C4C5917A9EEC2  electric_bike 2020-06-02 19:18:23   \n",
       "...                  ...            ...                 ...   \n",
       "158163  0B71759604CAC23A    docked_bike 2020-06-03 17:36:00   \n",
       "158164  F9B05C6AF19DDFA6    docked_bike 2020-06-09 16:11:52   \n",
       "158165  7CD57741868F792F    docked_bike 2020-06-20 21:23:17   \n",
       "158166  B63CC04A5F7D3245    docked_bike 2020-06-13 11:40:08   \n",
       "158167  78F6F31637E6358D    docked_bike 2020-06-23 19:33:38   \n",
       "\n",
       "                  ended_at                                 start_station_name  \\\n",
       "2      2020-06-02 17:52:21                          Powell St at Columbus Ave   \n",
       "4      2020-06-03 16:06:10                            Church St at Duboce Ave   \n",
       "8      2020-06-03 12:36:27                      Cesar Chavez St at Dolores St   \n",
       "10     2020-06-03 15:07:00  Yerba Buena Center for the Arts (Howard St at ...   \n",
       "14     2020-06-02 19:46:05                      The Embarcadero at Vallejo St   \n",
       "...                    ...                                                ...   \n",
       "158163 2020-06-03 17:48:03                              Sanchez St at 15th St   \n",
       "158164 2020-06-09 16:22:46                             MacArthur BART Station   \n",
       "158165 2020-06-20 21:38:26                                Bay Pl at Vernon St   \n",
       "158166 2020-06-13 11:55:17                       Alcatraz Ave at Shattuck Ave   \n",
       "158167 2020-06-23 19:45:56                Terry Francois Blvd at Warriors Way   \n",
       "\n",
       "        start_station_id            end_station_name  end_station_id  \\\n",
       "2                  487.0                         NaN             NaN   \n",
       "4                   85.0     48th Ave at Cabrillo St           521.0   \n",
       "8                  140.0           4th St at 16th St           104.0   \n",
       "10                 284.0                         NaN             NaN   \n",
       "14                   8.0          Hyde St at Post St           369.0   \n",
       "...                  ...                         ...             ...   \n",
       "158163              95.0        11th St at Natoma St            77.0   \n",
       "158164             176.0      Miles Ave at Cavour St           205.0   \n",
       "158165             195.0         Bay Pl at Vernon St           195.0   \n",
       "158166             168.0      Rockridge BART Station           171.0   \n",
       "158167             460.0  The Embarcadero at Pier 38            38.0   \n",
       "\n",
       "        start_lat   start_lng    end_lat     end_lng member_casual  \n",
       "2       37.800426 -122.410950  37.790000 -122.440000        casual  \n",
       "4       37.769841 -122.429210  37.772894 -122.509079        casual  \n",
       "8       37.747758 -122.425121  37.767008 -122.390851        casual  \n",
       "10      37.784577 -122.400985  37.760000 -122.420000        casual  \n",
       "14      37.799943 -122.398562  37.787527 -122.416830        casual  \n",
       "...           ...         ...        ...         ...           ...  \n",
       "158163  37.766218 -122.431059  37.773507 -122.416040        casual  \n",
       "158164  37.828409 -122.266314  37.838800 -122.258732        casual  \n",
       "158165  37.812314 -122.260778  37.812314 -122.260779        casual  \n",
       "158166  37.849594 -122.265568  37.844279 -122.251900        casual  \n",
       "158167  37.769094 -122.386332  37.782926 -122.387921        casual  \n",
       "\n",
       "[99220 rows x 13 columns]"
      ]
     },
     "execution_count": 50,
     "metadata": {},
     "output_type": "execute_result"
    }
   ],
   "source": [
    "# Remove rows that does not have start_station_id value\n",
    "df[df['start_station_id'].isnull() == False]"
   ]
  },
  {
   "cell_type": "code",
   "execution_count": 51,
   "metadata": {},
   "outputs": [],
   "source": [
    "# Extracting day of week, hours information from the started_at\n",
    "df['start_time_day_of_week']= df['started_at'].dt.strftime('%a')\n",
    "df['start_time_hour']= df['started_at'].dt.hour"
   ]
  },
  {
   "cell_type": "code",
   "execution_count": 52,
   "metadata": {},
   "outputs": [],
   "source": [
    "# making counting by seperated day \n",
    "week_days = ['Sat', 'Sun','Mon','Tue','Wed','Thu','Fri']\n",
    "weekday_order = pd.api.types.CategoricalDtype(ordered = True, categories = week_days)\n",
    "df['start_time_day_of_week'] = df['start_time_day_of_week'].astype(weekday_order)"
   ]
  },
  {
   "cell_type": "code",
   "execution_count": 53,
   "metadata": {},
   "outputs": [
    {
     "data": {
      "text/plain": [
       "Sat    26099\n",
       "Tue    23847\n",
       "Sun    22809\n",
       "Wed    22230\n",
       "Mon    22100\n",
       "Fri    21680\n",
       "Thu    19403\n",
       "Name: start_time_day_of_week, dtype: int64"
      ]
     },
     "execution_count": 53,
     "metadata": {},
     "output_type": "execute_result"
    }
   ],
   "source": [
    "df['start_time_day_of_week'].value_counts()"
   ]
  },
  {
   "cell_type": "code",
   "execution_count": 54,
   "metadata": {},
   "outputs": [
    {
     "data": {
      "text/plain": [
       "Market St at 10th St                            1555\n",
       "Hyde St at Post St                              1265\n",
       "Fell St at Stanyan St                           1225\n",
       "Powell St BART Station (Market St at 4th St)    1136\n",
       "Mission Dolores Park                            1042\n",
       "                                                ... \n",
       "Raymond Kimbell Playground                         9\n",
       "Stanyan St at Geary Blvd                           7\n",
       "Foothill Blvd at Harrington Ave                    6\n",
       "38th Ave at Balboa St                              1\n",
       "7th St at Brannan St                               1\n",
       "Name: start_station_name, Length: 426, dtype: int64"
      ]
     },
     "execution_count": 54,
     "metadata": {},
     "output_type": "execute_result"
    }
   ],
   "source": [
    "df['start_station_name'].value_counts()"
   ]
  },
  {
   "cell_type": "code",
   "execution_count": 55,
   "metadata": {},
   "outputs": [
    {
     "data": {
      "text/plain": [
       "Market St at 10th St                            1506\n",
       "Powell St BART Station (Market St at 4th St)    1202\n",
       "Fell St at Stanyan St                           1182\n",
       "Mission Dolores Park                            1176\n",
       "Hyde St at Post St                              1087\n",
       "                                                ... \n",
       "16th Depot Bike Fleet Station                      5\n",
       "Stanyan St at Geary Blvd                           4\n",
       "38th Ave at Balboa St                              3\n",
       "San Jose Depot                                     3\n",
       "14th St at Mission St                              1\n",
       "Name: end_station_name, Length: 431, dtype: int64"
      ]
     },
     "execution_count": 55,
     "metadata": {},
     "output_type": "execute_result"
    }
   ],
   "source": [
    "df['end_station_name'].value_counts()"
   ]
  },
  {
   "cell_type": "code",
   "execution_count": 56,
   "metadata": {},
   "outputs": [
    {
     "name": "stdout",
     "output_type": "stream",
     "text": [
      "<class 'pandas.core.frame.DataFrame'>\n",
      "RangeIndex: 158168 entries, 0 to 158167\n",
      "Data columns (total 15 columns):\n",
      " #   Column                  Non-Null Count   Dtype         \n",
      "---  ------                  --------------   -----         \n",
      " 0   ride_id                 158168 non-null  object        \n",
      " 1   rideable_type           158168 non-null  category      \n",
      " 2   started_at              158168 non-null  datetime64[ns]\n",
      " 3   ended_at                158168 non-null  datetime64[ns]\n",
      " 4   start_station_name      99220 non-null   object        \n",
      " 5   start_station_id        99220 non-null   float64       \n",
      " 6   end_station_name        97151 non-null   object        \n",
      " 7   end_station_id          97151 non-null   float64       \n",
      " 8   start_lat               158168 non-null  float64       \n",
      " 9   start_lng               158168 non-null  float64       \n",
      " 10  end_lat                 157892 non-null  float64       \n",
      " 11  end_lng                 157892 non-null  float64       \n",
      " 12  member_casual           158168 non-null  object        \n",
      " 13  start_time_day_of_week  158168 non-null  category      \n",
      " 14  start_time_hour         158168 non-null  int64         \n",
      "dtypes: category(2), datetime64[ns](2), float64(6), int64(1), object(4)\n",
      "memory usage: 16.0+ MB\n"
     ]
    }
   ],
   "source": [
    "df.info()"
   ]
  },
  {
   "cell_type": "code",
   "execution_count": 57,
   "metadata": {},
   "outputs": [
    {
     "data": {
      "text/html": [
       "<div>\n",
       "<style scoped>\n",
       "    .dataframe tbody tr th:only-of-type {\n",
       "        vertical-align: middle;\n",
       "    }\n",
       "\n",
       "    .dataframe tbody tr th {\n",
       "        vertical-align: top;\n",
       "    }\n",
       "\n",
       "    .dataframe thead th {\n",
       "        text-align: right;\n",
       "    }\n",
       "</style>\n",
       "<table border=\"1\" class=\"dataframe\">\n",
       "  <thead>\n",
       "    <tr style=\"text-align: right;\">\n",
       "      <th></th>\n",
       "      <th>count</th>\n",
       "      <th>mean</th>\n",
       "      <th>std</th>\n",
       "      <th>min</th>\n",
       "      <th>25%</th>\n",
       "      <th>50%</th>\n",
       "      <th>75%</th>\n",
       "      <th>max</th>\n",
       "    </tr>\n",
       "  </thead>\n",
       "  <tbody>\n",
       "    <tr>\n",
       "      <th>start_station_id</th>\n",
       "      <td>99220.0</td>\n",
       "      <td>222.670762</td>\n",
       "      <td>170.109389</td>\n",
       "      <td>3.00</td>\n",
       "      <td>73.000000</td>\n",
       "      <td>156.000000</td>\n",
       "      <td>381.000000</td>\n",
       "      <td>532.000000</td>\n",
       "    </tr>\n",
       "    <tr>\n",
       "      <th>end_station_id</th>\n",
       "      <td>97151.0</td>\n",
       "      <td>220.933104</td>\n",
       "      <td>169.794631</td>\n",
       "      <td>3.00</td>\n",
       "      <td>73.000000</td>\n",
       "      <td>149.000000</td>\n",
       "      <td>380.000000</td>\n",
       "      <td>532.000000</td>\n",
       "    </tr>\n",
       "    <tr>\n",
       "      <th>start_lat</th>\n",
       "      <td>158168.0</td>\n",
       "      <td>37.730514</td>\n",
       "      <td>0.140991</td>\n",
       "      <td>37.24</td>\n",
       "      <td>37.760000</td>\n",
       "      <td>37.773717</td>\n",
       "      <td>37.788396</td>\n",
       "      <td>37.880222</td>\n",
       "    </tr>\n",
       "    <tr>\n",
       "      <th>start_lng</th>\n",
       "      <td>158168.0</td>\n",
       "      <td>-122.353640</td>\n",
       "      <td>0.170709</td>\n",
       "      <td>-122.51</td>\n",
       "      <td>-122.431873</td>\n",
       "      <td>-122.412036</td>\n",
       "      <td>-122.391173</td>\n",
       "      <td>-121.770000</td>\n",
       "    </tr>\n",
       "    <tr>\n",
       "      <th>end_lat</th>\n",
       "      <td>157892.0</td>\n",
       "      <td>37.730497</td>\n",
       "      <td>0.141111</td>\n",
       "      <td>37.23</td>\n",
       "      <td>37.760000</td>\n",
       "      <td>37.773532</td>\n",
       "      <td>37.788927</td>\n",
       "      <td>37.950000</td>\n",
       "    </tr>\n",
       "    <tr>\n",
       "      <th>end_lng</th>\n",
       "      <td>157892.0</td>\n",
       "      <td>-122.353779</td>\n",
       "      <td>0.170778</td>\n",
       "      <td>-122.54</td>\n",
       "      <td>-122.431184</td>\n",
       "      <td>-122.412073</td>\n",
       "      <td>-122.391198</td>\n",
       "      <td>-121.760000</td>\n",
       "    </tr>\n",
       "    <tr>\n",
       "      <th>start_time_hour</th>\n",
       "      <td>158168.0</td>\n",
       "      <td>14.375455</td>\n",
       "      <td>4.387877</td>\n",
       "      <td>0.00</td>\n",
       "      <td>12.000000</td>\n",
       "      <td>15.000000</td>\n",
       "      <td>18.000000</td>\n",
       "      <td>23.000000</td>\n",
       "    </tr>\n",
       "  </tbody>\n",
       "</table>\n",
       "</div>"
      ],
      "text/plain": [
       "                     count        mean         std     min         25%  \\\n",
       "start_station_id   99220.0  222.670762  170.109389    3.00   73.000000   \n",
       "end_station_id     97151.0  220.933104  169.794631    3.00   73.000000   \n",
       "start_lat         158168.0   37.730514    0.140991   37.24   37.760000   \n",
       "start_lng         158168.0 -122.353640    0.170709 -122.51 -122.431873   \n",
       "end_lat           157892.0   37.730497    0.141111   37.23   37.760000   \n",
       "end_lng           157892.0 -122.353779    0.170778 -122.54 -122.431184   \n",
       "start_time_hour   158168.0   14.375455    4.387877    0.00   12.000000   \n",
       "\n",
       "                         50%         75%         max  \n",
       "start_station_id  156.000000  381.000000  532.000000  \n",
       "end_station_id    149.000000  380.000000  532.000000  \n",
       "start_lat          37.773717   37.788396   37.880222  \n",
       "start_lng        -122.412036 -122.391173 -121.770000  \n",
       "end_lat            37.773532   37.788927   37.950000  \n",
       "end_lng          -122.412073 -122.391198 -121.760000  \n",
       "start_time_hour    15.000000   18.000000   23.000000  "
      ]
     },
     "execution_count": 57,
     "metadata": {},
     "output_type": "execute_result"
    }
   ],
   "source": [
    "#showing the statistical mathematics for each columns \n",
    "df.describe().T"
   ]
  },
  {
   "cell_type": "code",
   "execution_count": 58,
   "metadata": {},
   "outputs": [
    {
     "data": {
      "text/html": [
       "<div>\n",
       "<style scoped>\n",
       "    .dataframe tbody tr th:only-of-type {\n",
       "        vertical-align: middle;\n",
       "    }\n",
       "\n",
       "    .dataframe tbody tr th {\n",
       "        vertical-align: top;\n",
       "    }\n",
       "\n",
       "    .dataframe thead th {\n",
       "        text-align: right;\n",
       "    }\n",
       "</style>\n",
       "<table border=\"1\" class=\"dataframe\">\n",
       "  <thead>\n",
       "    <tr style=\"text-align: right;\">\n",
       "      <th></th>\n",
       "      <th>ride_id</th>\n",
       "      <th>rideable_type</th>\n",
       "      <th>started_at</th>\n",
       "      <th>ended_at</th>\n",
       "      <th>start_station_name</th>\n",
       "      <th>start_station_id</th>\n",
       "      <th>end_station_name</th>\n",
       "      <th>end_station_id</th>\n",
       "      <th>start_lat</th>\n",
       "      <th>start_lng</th>\n",
       "      <th>end_lat</th>\n",
       "      <th>end_lng</th>\n",
       "      <th>member_casual</th>\n",
       "      <th>start_time_day_of_week</th>\n",
       "      <th>start_time_hour</th>\n",
       "    </tr>\n",
       "  </thead>\n",
       "  <tbody>\n",
       "    <tr>\n",
       "      <th>0</th>\n",
       "      <td>08A4A9F7315901F3</td>\n",
       "      <td>electric_bike</td>\n",
       "      <td>2020-06-03 16:37:10</td>\n",
       "      <td>2020-06-03 16:48:28</td>\n",
       "      <td>NaN</td>\n",
       "      <td>NaN</td>\n",
       "      <td>NaN</td>\n",
       "      <td>NaN</td>\n",
       "      <td>37.770000</td>\n",
       "      <td>-122.40000</td>\n",
       "      <td>37.760000</td>\n",
       "      <td>-122.420000</td>\n",
       "      <td>casual</td>\n",
       "      <td>Wed</td>\n",
       "      <td>16</td>\n",
       "    </tr>\n",
       "    <tr>\n",
       "      <th>1</th>\n",
       "      <td>844F9D906468C441</td>\n",
       "      <td>electric_bike</td>\n",
       "      <td>2020-06-03 12:22:47</td>\n",
       "      <td>2020-06-03 12:44:02</td>\n",
       "      <td>NaN</td>\n",
       "      <td>NaN</td>\n",
       "      <td>NaN</td>\n",
       "      <td>NaN</td>\n",
       "      <td>37.780000</td>\n",
       "      <td>-122.49000</td>\n",
       "      <td>37.780000</td>\n",
       "      <td>-122.460000</td>\n",
       "      <td>casual</td>\n",
       "      <td>Wed</td>\n",
       "      <td>12</td>\n",
       "    </tr>\n",
       "    <tr>\n",
       "      <th>2</th>\n",
       "      <td>0E441BF8A86C544E</td>\n",
       "      <td>electric_bike</td>\n",
       "      <td>2020-06-02 17:37:43</td>\n",
       "      <td>2020-06-02 17:52:21</td>\n",
       "      <td>Powell St at Columbus Ave</td>\n",
       "      <td>487.0</td>\n",
       "      <td>NaN</td>\n",
       "      <td>NaN</td>\n",
       "      <td>37.800426</td>\n",
       "      <td>-122.41095</td>\n",
       "      <td>37.790000</td>\n",
       "      <td>-122.440000</td>\n",
       "      <td>casual</td>\n",
       "      <td>Tue</td>\n",
       "      <td>17</td>\n",
       "    </tr>\n",
       "    <tr>\n",
       "      <th>3</th>\n",
       "      <td>CAFE64864422F475</td>\n",
       "      <td>electric_bike</td>\n",
       "      <td>2020-06-02 18:13:01</td>\n",
       "      <td>2020-06-02 18:48:30</td>\n",
       "      <td>NaN</td>\n",
       "      <td>NaN</td>\n",
       "      <td>NaN</td>\n",
       "      <td>NaN</td>\n",
       "      <td>37.760000</td>\n",
       "      <td>-122.41000</td>\n",
       "      <td>37.770000</td>\n",
       "      <td>-122.430000</td>\n",
       "      <td>casual</td>\n",
       "      <td>Tue</td>\n",
       "      <td>18</td>\n",
       "    </tr>\n",
       "    <tr>\n",
       "      <th>4</th>\n",
       "      <td>172957A20160D568</td>\n",
       "      <td>electric_bike</td>\n",
       "      <td>2020-06-03 15:16:06</td>\n",
       "      <td>2020-06-03 16:06:10</td>\n",
       "      <td>Church St at Duboce Ave</td>\n",
       "      <td>85.0</td>\n",
       "      <td>48th Ave at Cabrillo St</td>\n",
       "      <td>521.0</td>\n",
       "      <td>37.769841</td>\n",
       "      <td>-122.42921</td>\n",
       "      <td>37.772894</td>\n",
       "      <td>-122.509079</td>\n",
       "      <td>casual</td>\n",
       "      <td>Wed</td>\n",
       "      <td>15</td>\n",
       "    </tr>\n",
       "  </tbody>\n",
       "</table>\n",
       "</div>"
      ],
      "text/plain": [
       "            ride_id  rideable_type          started_at            ended_at  \\\n",
       "0  08A4A9F7315901F3  electric_bike 2020-06-03 16:37:10 2020-06-03 16:48:28   \n",
       "1  844F9D906468C441  electric_bike 2020-06-03 12:22:47 2020-06-03 12:44:02   \n",
       "2  0E441BF8A86C544E  electric_bike 2020-06-02 17:37:43 2020-06-02 17:52:21   \n",
       "3  CAFE64864422F475  electric_bike 2020-06-02 18:13:01 2020-06-02 18:48:30   \n",
       "4  172957A20160D568  electric_bike 2020-06-03 15:16:06 2020-06-03 16:06:10   \n",
       "\n",
       "          start_station_name  start_station_id         end_station_name  \\\n",
       "0                        NaN               NaN                      NaN   \n",
       "1                        NaN               NaN                      NaN   \n",
       "2  Powell St at Columbus Ave             487.0                      NaN   \n",
       "3                        NaN               NaN                      NaN   \n",
       "4    Church St at Duboce Ave              85.0  48th Ave at Cabrillo St   \n",
       "\n",
       "   end_station_id  start_lat  start_lng    end_lat     end_lng member_casual  \\\n",
       "0             NaN  37.770000 -122.40000  37.760000 -122.420000        casual   \n",
       "1             NaN  37.780000 -122.49000  37.780000 -122.460000        casual   \n",
       "2             NaN  37.800426 -122.41095  37.790000 -122.440000        casual   \n",
       "3             NaN  37.760000 -122.41000  37.770000 -122.430000        casual   \n",
       "4           521.0  37.769841 -122.42921  37.772894 -122.509079        casual   \n",
       "\n",
       "  start_time_day_of_week  start_time_hour  \n",
       "0                    Wed               16  \n",
       "1                    Wed               12  \n",
       "2                    Tue               17  \n",
       "3                    Tue               18  \n",
       "4                    Wed               15  "
      ]
     },
     "execution_count": 58,
     "metadata": {},
     "output_type": "execute_result"
    }
   ],
   "source": [
    "df.head()"
   ]
  },
  {
   "cell_type": "code",
   "execution_count": 59,
   "metadata": {},
   "outputs": [],
   "source": [
    "df_new = df.copy()"
   ]
  },
  {
   "cell_type": "code",
   "execution_count": 60,
   "metadata": {},
   "outputs": [
    {
     "data": {
      "text/html": [
       "<div>\n",
       "<style scoped>\n",
       "    .dataframe tbody tr th:only-of-type {\n",
       "        vertical-align: middle;\n",
       "    }\n",
       "\n",
       "    .dataframe tbody tr th {\n",
       "        vertical-align: top;\n",
       "    }\n",
       "\n",
       "    .dataframe thead th {\n",
       "        text-align: right;\n",
       "    }\n",
       "</style>\n",
       "<table border=\"1\" class=\"dataframe\">\n",
       "  <thead>\n",
       "    <tr style=\"text-align: right;\">\n",
       "      <th></th>\n",
       "      <th>ride_id</th>\n",
       "      <th>rideable_type</th>\n",
       "      <th>started_at</th>\n",
       "      <th>ended_at</th>\n",
       "      <th>start_station_name</th>\n",
       "      <th>start_station_id</th>\n",
       "      <th>end_station_name</th>\n",
       "      <th>end_station_id</th>\n",
       "      <th>start_lat</th>\n",
       "      <th>start_lng</th>\n",
       "      <th>end_lat</th>\n",
       "      <th>end_lng</th>\n",
       "      <th>member_casual</th>\n",
       "      <th>start_time_day_of_week</th>\n",
       "      <th>start_time_hour</th>\n",
       "    </tr>\n",
       "  </thead>\n",
       "  <tbody>\n",
       "    <tr>\n",
       "      <th>5658</th>\n",
       "      <td>E14E83086199F12D</td>\n",
       "      <td>electric_bike</td>\n",
       "      <td>2020-06-15 13:38:34</td>\n",
       "      <td>2020-06-15 14:28:47</td>\n",
       "      <td>Autumn Parkway at Coleman Ave</td>\n",
       "      <td>291.0</td>\n",
       "      <td>NaN</td>\n",
       "      <td>NaN</td>\n",
       "      <td>37.341261</td>\n",
       "      <td>-121.903377</td>\n",
       "      <td>37.350000</td>\n",
       "      <td>-121.910000</td>\n",
       "      <td>member</td>\n",
       "      <td>Mon</td>\n",
       "      <td>13</td>\n",
       "    </tr>\n",
       "    <tr>\n",
       "      <th>84195</th>\n",
       "      <td>6ABA70806598AD9F</td>\n",
       "      <td>electric_bike</td>\n",
       "      <td>2020-06-02 11:45:22</td>\n",
       "      <td>2020-06-02 12:13:22</td>\n",
       "      <td>NaN</td>\n",
       "      <td>NaN</td>\n",
       "      <td>NaN</td>\n",
       "      <td>NaN</td>\n",
       "      <td>37.760000</td>\n",
       "      <td>-122.420000</td>\n",
       "      <td>37.710000</td>\n",
       "      <td>-122.470000</td>\n",
       "      <td>member</td>\n",
       "      <td>Tue</td>\n",
       "      <td>11</td>\n",
       "    </tr>\n",
       "    <tr>\n",
       "      <th>151593</th>\n",
       "      <td>611022C9246C0CBB</td>\n",
       "      <td>electric_bike</td>\n",
       "      <td>2020-06-24 19:15:46</td>\n",
       "      <td>2020-06-24 19:31:56</td>\n",
       "      <td>NaN</td>\n",
       "      <td>NaN</td>\n",
       "      <td>Buchanan St at North Point St</td>\n",
       "      <td>400.0</td>\n",
       "      <td>37.790000</td>\n",
       "      <td>-122.440000</td>\n",
       "      <td>37.804419</td>\n",
       "      <td>-122.433556</td>\n",
       "      <td>member</td>\n",
       "      <td>Wed</td>\n",
       "      <td>19</td>\n",
       "    </tr>\n",
       "    <tr>\n",
       "      <th>59290</th>\n",
       "      <td>98B0EFEA3D0FEC4B</td>\n",
       "      <td>electric_bike</td>\n",
       "      <td>2020-06-06 13:46:26</td>\n",
       "      <td>2020-06-06 14:36:17</td>\n",
       "      <td>Sanchez St at 15th St</td>\n",
       "      <td>95.0</td>\n",
       "      <td>NaN</td>\n",
       "      <td>NaN</td>\n",
       "      <td>37.766374</td>\n",
       "      <td>-122.431134</td>\n",
       "      <td>37.750000</td>\n",
       "      <td>-122.420000</td>\n",
       "      <td>casual</td>\n",
       "      <td>Sat</td>\n",
       "      <td>13</td>\n",
       "    </tr>\n",
       "    <tr>\n",
       "      <th>89765</th>\n",
       "      <td>594DA15956437318</td>\n",
       "      <td>electric_bike</td>\n",
       "      <td>2020-06-29 17:33:55</td>\n",
       "      <td>2020-06-29 17:43:30</td>\n",
       "      <td>Howard St at 8th St</td>\n",
       "      <td>61.0</td>\n",
       "      <td>19th St at Mission St</td>\n",
       "      <td>122.0</td>\n",
       "      <td>37.776670</td>\n",
       "      <td>-122.411173</td>\n",
       "      <td>37.760300</td>\n",
       "      <td>-122.418064</td>\n",
       "      <td>member</td>\n",
       "      <td>Mon</td>\n",
       "      <td>17</td>\n",
       "    </tr>\n",
       "  </tbody>\n",
       "</table>\n",
       "</div>"
      ],
      "text/plain": [
       "                 ride_id  rideable_type          started_at  \\\n",
       "5658    E14E83086199F12D  electric_bike 2020-06-15 13:38:34   \n",
       "84195   6ABA70806598AD9F  electric_bike 2020-06-02 11:45:22   \n",
       "151593  611022C9246C0CBB  electric_bike 2020-06-24 19:15:46   \n",
       "59290   98B0EFEA3D0FEC4B  electric_bike 2020-06-06 13:46:26   \n",
       "89765   594DA15956437318  electric_bike 2020-06-29 17:33:55   \n",
       "\n",
       "                  ended_at             start_station_name  start_station_id  \\\n",
       "5658   2020-06-15 14:28:47  Autumn Parkway at Coleman Ave             291.0   \n",
       "84195  2020-06-02 12:13:22                            NaN               NaN   \n",
       "151593 2020-06-24 19:31:56                            NaN               NaN   \n",
       "59290  2020-06-06 14:36:17          Sanchez St at 15th St              95.0   \n",
       "89765  2020-06-29 17:43:30            Howard St at 8th St              61.0   \n",
       "\n",
       "                     end_station_name  end_station_id  start_lat   start_lng  \\\n",
       "5658                              NaN             NaN  37.341261 -121.903377   \n",
       "84195                             NaN             NaN  37.760000 -122.420000   \n",
       "151593  Buchanan St at North Point St           400.0  37.790000 -122.440000   \n",
       "59290                             NaN             NaN  37.766374 -122.431134   \n",
       "89765           19th St at Mission St           122.0  37.776670 -122.411173   \n",
       "\n",
       "          end_lat     end_lng member_casual start_time_day_of_week  \\\n",
       "5658    37.350000 -121.910000        member                    Mon   \n",
       "84195   37.710000 -122.470000        member                    Tue   \n",
       "151593  37.804419 -122.433556        member                    Wed   \n",
       "59290   37.750000 -122.420000        casual                    Sat   \n",
       "89765   37.760300 -122.418064        member                    Mon   \n",
       "\n",
       "        start_time_hour  \n",
       "5658                 13  \n",
       "84195                11  \n",
       "151593               19  \n",
       "59290                13  \n",
       "89765                17  "
      ]
     },
     "execution_count": 60,
     "metadata": {},
     "output_type": "execute_result"
    }
   ],
   "source": [
    "df_new.sample(5)"
   ]
  },
  {
   "cell_type": "markdown",
   "metadata": {},
   "source": [
    "### What is the structure of your dataset?\n",
    "\n",
    "> the data we have structures as  158168 row and 13 columns \n",
    "### What is/are the main feature(s) of interest in your dataset?\n",
    "\n",
    "> \"rideable_type\" and \"member_casual\" both columns has one or more type which we can classified each one of them with its count and visualzie them beautifully side by side to know which type for each columns are incresed and which one is decresed in visualization!\n",
    "\n",
    "\n",
    "### What features in the dataset do you think will help support your investigation into your feature(s) of interest?\n",
    "\n",
    "> 1- the differnce between start time and end timd was had better to count the difference to facilitate a bunch of code editing to count the difference between \n",
    "> 2- start lat and end lat were supposed to edited like the comment i wrote above!"
   ]
  },
  {
   "cell_type": "markdown",
   "metadata": {},
   "source": [
    "## Univariate Exploration\n",
    "\n",
    "> visualizing our data "
   ]
  },
  {
   "cell_type": "code",
   "execution_count": 61,
   "metadata": {},
   "outputs": [
    {
     "data": {
      "text/plain": [
       "<matplotlib.axes._subplots.AxesSubplot at 0x222e515a648>"
      ]
     },
     "execution_count": 61,
     "metadata": {},
     "output_type": "execute_result"
    },
    {
     "data": {
      "image/png": "[encoded data removed]",
      "text/plain": [
       "<Figure size 432x288 with 1 Axes>"
      ]
     },
     "metadata": {
      "needs_background": "light"
     },
     "output_type": "display_data"
    }
   ],
   "source": [
    "base_color = sb.color_palette()[0]\n",
    "sb.countplot(data = df, x = 'member_casual', color = base_color)\n"
   ]
  },
  {
   "cell_type": "markdown",
   "metadata": {},
   "source": [
    "> as we saw above the casual element has more bike than member "
   ]
  },
  {
   "cell_type": "code",
   "execution_count": 62,
   "metadata": {},
   "outputs": [
    {
     "data": {
      "image/png": "[encoded data removed]",
      "text/plain": [
       "<Figure size 432x288 with 1 Axes>"
      ]
     },
     "metadata": {
      "needs_background": "light"
     },
     "output_type": "display_data"
    }
   ],
   "source": [
    "sb.countplot(data = df_new, x = 'rideable_type', color = base_color);\n"
   ]
  },
  {
   "cell_type": "markdown",
   "metadata": {},
   "source": [
    "> plotting the difference between 2 types of rideable_type and we saw that 'electric_bike' has the most effeicient  than other"
   ]
  },
  {
   "cell_type": "code",
   "execution_count": 63,
   "metadata": {},
   "outputs": [
    {
     "data": {
      "text/plain": [
       "<matplotlib.axes._subplots.AxesSubplot at 0x222e9c2a388>"
      ]
     },
     "execution_count": 63,
     "metadata": {},
     "output_type": "execute_result"
    },
    {
     "data": {
      "image/png": "[encoded data removed]",
      "text/plain": [
       "<Figure size 432x288 with 1 Axes>"
      ]
     },
     "metadata": {
      "needs_background": "light"
     },
     "output_type": "display_data"
    }
   ],
   "source": [
    "base_color = sb.color_palette()[0]\n",
    "cat_order = df_new['start_time_hour'].value_counts().index\n",
    "sb.countplot(data = df_new, x = 'start_time_hour', color = base_color, order = cat_order)\n"
   ]
  },
  {
   "cell_type": "markdown",
   "metadata": {},
   "source": [
    "> as we saw at the plot above >> the most bike hour is 17 and the less one is 3 and 4"
   ]
  },
  {
   "cell_type": "code",
   "execution_count": 64,
   "metadata": {},
   "outputs": [
    {
     "data": {
      "image/png": "[encoded data removed]",
      "text/plain": [
       "<Figure size 432x288 with 1 Axes>"
      ]
     },
     "metadata": {
      "needs_background": "light"
     },
     "output_type": "display_data"
    }
   ],
   "source": [
    "base_color = sb.color_palette()[0]\n",
    "cat_order = df_new['start_time_day_of_week'].value_counts().index\n",
    "sb.countplot(data = df_new, x = 'start_time_day_of_week', color = base_color , order = cat_order);\n"
   ]
  },
  {
   "cell_type": "markdown",
   "metadata": {},
   "source": [
    "> Saterday has the most bike count comparing with daysleft\n",
    "> and the day that has the less bike count as you see in the plot is thuresday"
   ]
  },
  {
   "cell_type": "code",
   "execution_count": 65,
   "metadata": {},
   "outputs": [
    {
     "data": {
      "text/plain": [
       "(-1.1076765234509274,\n",
       " 1.1084820458101243,\n",
       " -1.1104029378417133,\n",
       " 1.1057556314193384)"
      ]
     },
     "execution_count": 65,
     "metadata": {},
     "output_type": "execute_result"
    },
    {
     "data": {
      "image/png": "[encoded data removed]",
      "text/plain": [
       "<Figure size 432x288 with 1 Axes>"
      ]
     },
     "metadata": {},
     "output_type": "display_data"
    }
   ],
   "source": [
    "sorted_counts = df['start_time_day_of_week'].value_counts()\n",
    "plt.pie(sorted_counts, labels = sorted_counts.index, startangle = 90,\n",
    "        counterclock = False, wedgeprops = {'width' : 0.4});\n",
    "plt.axis('square')"
   ]
  },
  {
   "cell_type": "code",
   "execution_count": 96,
   "metadata": {},
   "outputs": [
    {
     "data": {
      "text/plain": [
       "<matplotlib.axes._subplots.AxesSubplot at 0x222db3761c8>"
      ]
     },
     "execution_count": 96,
     "metadata": {},
     "output_type": "execute_result"
    },
    {
     "data": {
      "image/png": "[encoded data removed]",
      "text/plain": [
       "<Figure size 432x288 with 1 Axes>"
      ]
     },
     "metadata": {
      "needs_background": "light"
     },
     "output_type": "display_data"
    }
   ],
   "source": [
    "sb.distplot(df_new['start_station_id'])\n"
   ]
  },
  {
   "cell_type": "markdown",
   "metadata": {},
   "source": [
    "# for each type of them we explaining which day has the most bike count and which one is less bike count per hour\n"
   ]
  },
  {
   "cell_type": "markdown",
   "metadata": {},
   "source": [
    "### Discuss the distribution(s) of your variable(s) of interest. Were there any unusual points? Did you need to perform any transformations?\n",
    "\n",
    "> for sure yes . the first edit i have done is make bike counting by seperated day by Extracting day of week, hours information from the started_at column\n",
    "\n",
    "\n",
    "### Of the features you investigated, were there any unusual distributions? Did you perform any operations on the data to tidy, adjust, or change the form of the data? If so, why did you do this?\n",
    "\n",
    "######  the started_at and ended_at columns classified as object so we have to convert them to date rime instead\n",
    "######  Remove rows that does not have start_station_id value\n",
    "######  Remove rows that does not have member_casual value"
   ]
  },
  {
   "cell_type": "markdown",
   "metadata": {},
   "source": [
    "## Bivariate Exploration\n"
   ]
  },
  {
   "cell_type": "code",
   "execution_count": 69,
   "metadata": {},
   "outputs": [
    {
     "data": {
      "image/png": "[encoded data removed]",
      "text/plain": [
       "<Figure size 1440x720 with 1 Axes>"
      ]
     },
     "metadata": {
      "needs_background": "light"
     },
     "output_type": "display_data"
    }
   ],
   "source": [
    "binsize =2.2\n",
    "bins = np.arange(0, df_new['start_station_id'].astype(float).max()+binsize, binsize)\n",
    "\n",
    "plt.figure(figsize=[20, 10])\n",
    "plt.xticks(range(0, 550, 20))\n",
    "plt.hist(data = df_new.dropna(), x = 'start_station_id', bins = bins)\n",
    "plt.title('Distribution of End Stations')\n",
    "plt.xlabel('End Station')\n",
    "plt.ylabel('Number of Stations')\n",
    "plt.show()"
   ]
  },
  {
   "cell_type": "code",
   "execution_count": 80,
   "metadata": {},
   "outputs": [
    {
     "data": {
      "image/png": "[encoded data removed]",
      "text/plain": [
       "<Figure size 1440x720 with 1 Axes>"
      ]
     },
     "metadata": {
      "needs_background": "light"
     },
     "output_type": "display_data"
    }
   ],
   "source": [
    "binsize =2.2\n",
    "bins = np.arange(0, df_new['end_station_id'].astype(float).max()+binsize, binsize)\n",
    "\n",
    "plt.figure(figsize=[20, 10])\n",
    "plt.xticks(range(0, 550, 20))\n",
    "plt.hist(data = df_new.dropna(), x = 'end_station_id', bins = bins)\n",
    "plt.title('Distribution of End Stations')\n",
    "plt.xlabel('End Station')\n",
    "plt.ylabel('Number of Stations')\n",
    "plt.show()"
   ]
  },
  {
   "cell_type": "code",
   "execution_count": 73,
   "metadata": {},
   "outputs": [
    {
     "data": {
      "image/png": "[encoded data removed]",
      "text/plain": [
       "<Figure size 2520x360 with 7 Axes>"
      ]
     },
     "metadata": {
      "needs_background": "light"
     },
     "output_type": "display_data"
    }
   ],
   "source": [
    "# for each type of them we explaining which day has the most bike count and which one is less bike count per hour\n",
    "a = sb.catplot(data=df_new, x='start_time_hour', col=\"start_time_day_of_week\", kind='count', sharey = False,\n",
    "            color = base_color)\n",
    "a.set_axis_labels(\"Hour\", \"Trip Numbers per Hour\")\n",
    "a.set_titles(\"{col_name}\")\n",
    "a.fig.suptitle('The Bike Usage per hour', y=1.05, fontsize=12, fontweight='semibold');"
   ]
  },
  {
   "cell_type": "code",
   "execution_count": 75,
   "metadata": {},
   "outputs": [
    {
     "data": {
      "image/png": "[encoded data removed]",
      "text/plain": [
       "<Figure size 720x360 with 2 Axes>"
      ]
     },
     "metadata": {
      "needs_background": "light"
     },
     "output_type": "display_data"
    }
   ],
   "source": [
    "# plotting two types of rideable_type \n",
    "# for each type of them we explaining which day has the most bike count and which one is less bike count per month\n",
    "a = sb.catplot(data=df_new, x='start_time_day_of_week', col=\"rideable_type\", kind='count', sharey = False,\n",
    "            color = base_color)\n",
    "a.set_axis_labels(\"Month\", \"Trip Numbers\")\n",
    "a.set_titles(\"{col_name}\")\n",
    "a.fig.suptitle('The Bike Usage per Month', y=1.05, fontsize=12, fontweight='semibold');"
   ]
  },
  {
   "cell_type": "code",
   "execution_count": null,
   "metadata": {},
   "outputs": [],
   "source": []
  },
  {
   "cell_type": "markdown",
   "metadata": {},
   "source": [
    "### Talk about some of the relationships you observed in this part of the investigation. How did the feature(s) of interest vary with other features in the dataset?\n",
    "\n",
    "> first we plotted the relationship between start_station_id and end_station_id and that plot explains the distripution between them in visualization\n",
    "\n",
    "###### we also explains that for each type of them we explaining which day has the most bike count and which one is less bike count per hour\n",
    "###### we also explains that for each type of them we explaining which day has the most bike count and which one is less bike count per month\n",
    "\n",
    "\n",
    "\n",
    "### Did you observe any interesting relationships between the other features (not the main feature(s) of interest)?\n",
    "\n",
    "##### the bike usage per month for electric_bike incresed to 17500 on saterday which unlike thuresdat that has the least bike count\n",
    "###### in the docked_bike portion we saw that saterday has the most bike count and it's up to 8000 unlike thuresday alse the other one"
   ]
  },
  {
   "cell_type": "markdown",
   "metadata": {},
   "source": [
    "## Multivariate Exploration"
   ]
  },
  {
   "cell_type": "code",
   "execution_count": 97,
   "metadata": {},
   "outputs": [
    {
     "data": {
      "text/plain": [
       "<matplotlib.axes._subplots.AxesSubplot at 0x222db8888c8>"
      ]
     },
     "execution_count": 97,
     "metadata": {},
     "output_type": "execute_result"
    },
    {
     "data": {
      "image/png": "[encoded data removed]",
      "text/plain": [
       "<Figure size 432x288 with 2 Axes>"
      ]
     },
     "metadata": {
      "needs_background": "light"
     },
     "output_type": "display_data"
    }
   ],
   "source": [
    "sb.heatmap(df_new.corr(), annot = True, fmt = '.2f', cmap = 'vlag_r', center = 0)\n"
   ]
  },
  {
   "cell_type": "code",
   "execution_count": 98,
   "metadata": {},
   "outputs": [
    {
     "data": {
      "text/plain": [
       "<matplotlib.colorbar.Colorbar at 0x222d7915448>"
      ]
     },
     "execution_count": 98,
     "metadata": {},
     "output_type": "execute_result"
    },
    {
     "data": {
      "image/png": "[encoded data removed]",
      "text/plain": [
       "<Figure size 432x288 with 2 Axes>"
      ]
     },
     "metadata": {
      "needs_background": "light"
     },
     "output_type": "display_data"
    }
   ],
   "source": [
    "plt.scatter(data = df_new, x = 'start_station_id', y = 'start_time_day_of_week', c = 'start_time_hour')\n",
    "plt.colorbar()"
   ]
  },
  {
   "cell_type": "code",
   "execution_count": 94,
   "metadata": {},
   "outputs": [
    {
     "data": {
      "text/plain": [
       "<seaborn.axisgrid.PairGrid at 0x222dd2260c8>"
      ]
     },
     "execution_count": 94,
     "metadata": {},
     "output_type": "execute_result"
    },
    {
     "data": {
      "image/png": "[encoded data removed]",
      "text/plain": [
       "<Figure size 360x360 with 6 Axes>"
      ]
     },
     "metadata": {
      "needs_background": "light"
     },
     "output_type": "display_data"
    }
   ],
   "source": [
    "g = sb.PairGrid(data = df_new, vars = ['start_time_day_of_week', 'start_time_hour'])\n",
    "g.map_diag(plt.hist)\n",
    "g.map_offdiag(plt.scatter)"
   ]
  },
  {
   "cell_type": "markdown",
   "metadata": {},
   "source": [
    "### Talk about some of the relationships you observed in this part of the investigation. Were there features that strengthened each other in terms of looking at your feature(s) of interest?\n",
    "\n",
    "##### first plot elaborating a general display for most common columns we use and the difference between each type of them by weekday and hour\n",
    "##### second plot explains the start dtstion id columns options for each day of week and hour\n",
    "##### third plot explains that the start time of the week per day and per hour\n",
    "\n",
    "### Were there any interesting or surprising interactions between features?\n",
    "\n",
    "###### saterday totally has the most effective day of all "
   ]
  },
  {
   "cell_type": "code",
   "execution_count": 95,
   "metadata": {},
   "outputs": [],
   "source": [
    "df_new.to_csv('df_new')"
   ]
  },
  {
   "cell_type": "code",
   "execution_count": null,
   "metadata": {},
   "outputs": [],
   "source": []
  }
 ],
 "metadata": {
  "kernelspec": {
   "display_name": "Python 3",
   "language": "python",
   "name": "python3"
  },
  "language_info": {
   "codemirror_mode": {
    "name": "ipython",
    "version": 3
   },
   "file_extension": ".py",
   "mimetype": "text/x-python",
   "name": "python",
   "nbconvert_exporter": "python",
   "pygments_lexer": "ipython3",
   "version": "3.7.6"
  }
 },
 "nbformat": 4,
 "nbformat_minor": 2
}
